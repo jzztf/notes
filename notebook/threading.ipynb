{
 "cells": [
  {
   "cell_type": "markdown",
   "metadata": {
    "slideshow": {
     "slide_type": "notes"
    }
   },
   "source": [
    "# 线程操作\n",
    "\n",
    "参考:@MorvanZhou\n",
    "\n",
    "- 创建线程实例\n",
    "\n",
    "`added_thread = threading.Thread(target=thread_job)`\n",
    "\n",
    "- 开始线程\n",
    "\n",
    "`added_thread.start()`\n",
    "\n",
    "- 维护线程\n",
    "\n",
    "`added_thread.join()`\n",
    "\n",
    "- 线程属性\n",
    "  - 查看当前线程:`threading.current_thread()`\n",
    "  - 查看线程列表:`threading.enumerate()`\n",
    "  - 所有线程数:`threading.active_count()`\n",
    "  \n",
    "```python\n",
    "# 线程简单练习\n",
    "\n",
    "import threading,time\n",
    "\n",
    "def T_job():\n",
    "    print(\"T start\\n\")\n",
    "    for i in range(10):\n",
    "        time.sleep(0.2)\n",
    "    print(\"T finish\\n\")\n",
    "    \n",
    "def T2_job():\n",
    "    print(\"T2 start\\n\")\n",
    "    for i in range(10):\n",
    "        time.sleep(0.2)\n",
    "    print(\"T2 finish\\n\")\n",
    "    \n",
    "def main():\n",
    "    # 定义线程\n",
    "    T = threading.Thread(target=T_job,)\n",
    "    T2 = threading.Thread(target=T2_job,)\n",
    "    # 开始线程\n",
    "    T.start()\n",
    "\n",
    "    T2.start()\n",
    "    T.join()\n",
    "    T2.join()\n",
    "    print(\"all done\")\n",
    "    \n",
    "main()\n",
    "```\n",
    "\n",
    "\n",
    "- 队列操作, 交换数据\n",
    "\n",
    "多线程是没有返回值的,如果需要返回函数的返回值,则需要使用queue\n",
    "\n",
    "```python\n",
    "import threading\n",
    "from queue import Queue\n",
    "\n",
    "def job(l,q):\n",
    "    for i in range(len(l)):\n",
    "        l[i] = l[i]**2\n",
    "    #return l 无效\n",
    "    # 将计算后的列表放到q中\n",
    "    q.put(l)\n",
    "\n",
    "def multithreading():\n",
    "    # 创建队列实例\n",
    "    q = Queue()\n",
    "    threads = []\n",
    "    data = [[1,2,3],[4,5,6],[7,8,9],[2,3,4]]\n",
    "    # 创建4个线程\n",
    "    for i in range(4):\n",
    "        # 创建线程实例,将一个二位数组分成四次运行\n",
    "        t = threading.Thread(target=job,args=(data[i],q))\n",
    "        # 启动线程\n",
    "        t.start()\n",
    "        # 将线程添加到threads列表中\n",
    "        threads.append(t)\n",
    "    for thread in threads:\n",
    "        # 将分线程加入到主线程中,完成每个线程后,才可以继续以后的命令,才可以返回值\n",
    "        thread.join()\n",
    "    results=[]\n",
    "    for _ in range(4):\n",
    "        # 循环四次, 每次都从q中拿出一个\n",
    "        # q对象队列就是先进先出(FIFO)\n",
    "        results.append(q.get())\n",
    "    print(results)\n",
    "\n",
    "multithreading()\n",
    "```\n",
    "\n",
    "- GIL\n",
    "\n",
    "python全局管理, 使用多线程并不一定能够提升理想的效率\n",
    "\n",
    "如果两个线程分工于不同的功能, 可能效率会提高很多, 如果运算的线程相关性较高, 也可能不是那么快\n",
    "\n",
    "- lock\n",
    "\n",
    "线程1拿到一个数据, 用来给第二个线程使用,就需要将线程1运行完后,锁起来\n",
    "\n",
    "```python\n",
    "import threading\n",
    "\n",
    "def job1():\n",
    "    global A,lock\n",
    "    lock.acquire()\n",
    "    for i in range(10):\n",
    "        A += 1\n",
    "        print('job1',A)\n",
    "    lock.release()\n",
    "        \n",
    "def job2():\n",
    "    global A,lock\n",
    "    lock.acquire()\n",
    "    for i in range(10):\n",
    "        A += 10\n",
    "        print('job2',A)\n",
    "    lock.release()\n",
    "\n",
    "lock = threading.Lock()\n",
    "A = 0\n",
    "t1 = threading.Thread(target=job1)\n",
    "t2 = threading.Thread(target=job2)\n",
    "t1.start()\n",
    "t2.start()\n",
    "t1.join()\n",
    "t2.join()\n",
    "```"
   ]
  },
  {
   "cell_type": "markdown",
   "metadata": {
    "slideshow": {
     "slide_type": "notes"
    }
   },
   "source": [
    "多线程\n",
    "===\n",
    "\n"
   ]
  },
  {
   "cell_type": "code",
   "execution_count": 3,
   "metadata": {},
   "outputs": [
    {
     "name": "stdout",
     "output_type": "stream",
     "text": [
      "Start!\n",
      "End!\n",
      "wake up\n"
     ]
    }
   ],
   "source": [
    "import threading,time\n",
    "\n",
    "print(\"Start!\")\n",
    "\n",
    "def job():\n",
    "    time.sleep(5)\n",
    "    print('wake up')\n",
    "    \n",
    "thread = threading.Thread(target=job)\n",
    "thread.start()\n",
    "\n",
    "print(\"End!\")\n",
    "\n",
    "\"\"\"\n",
    "正常情况下,程序会按照由上至下的语句顺序运行, 打印顺序为\"Start => wake up => End\"\n",
    "但此处创建了另一个线程thread,并在线程中让job程序沉睡1秒钟\n",
    "\"Start => thread => End\"\n",
    "\"         job => sleep(5)\"\n",
    "\"\"\""
   ]
  },
  {
   "cell_type": "code",
   "execution_count": 7,
   "metadata": {
    "slideshow": {
     "slide_type": "notes"
    }
   },
   "outputs": [
    {
     "name": "stdout",
     "output_type": "stream",
     "text": [
      "dogs&cats\n"
     ]
    }
   ],
   "source": [
    "import threading\n",
    "\n",
    "\"\"\"向线程传递参数\"\"\"\n",
    "\n",
    "thread = threading.Thread(target=print,args=(\"dogs\",\"cats\"),kwargs={'sep':\"&\"})\n",
    "thread.start()"
   ]
  },
  {
   "cell_type": "code",
   "execution_count": 12,
   "metadata": {},
   "outputs": [
    {
     "data": {
      "text/plain": [
       "<subprocess.Popen at 0xb498eb6c>"
      ]
     },
     "execution_count": 12,
     "metadata": {},
     "output_type": "execute_result"
    }
   ],
   "source": [
    "import subprocess\n",
    "\n",
    "subprocess.Popen(['firefox','www.github.com'])"
   ]
  },
  {
   "cell_type": "code",
   "execution_count": null,
   "metadata": {},
   "outputs": [],
   "source": []
  }
 ],
 "metadata": {
  "celltoolbar": "Slideshow",
  "kernelspec": {
   "display_name": "Python 3",
   "language": "python",
   "name": "python3"
  },
  "language_info": {
   "codemirror_mode": {
    "name": "ipython",
    "version": 3
   },
   "file_extension": ".py",
   "mimetype": "text/x-python",
   "name": "python",
   "nbconvert_exporter": "python",
   "pygments_lexer": "ipython3",
   "version": "3.6.5"
  }
 },
 "nbformat": 4,
 "nbformat_minor": 2
}
