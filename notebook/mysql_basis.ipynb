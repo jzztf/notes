{
 "cells": [
  {
   "cell_type": "code",
   "execution_count": 1,
   "metadata": {},
   "outputs": [
    {
     "ename": "ModuleNotFoundError",
     "evalue": "No module named 'MySQL'",
     "output_type": "error",
     "traceback": [
      "\u001b[0;31m---------------------------------------------------------------------------\u001b[0m",
      "\u001b[0;31mModuleNotFoundError\u001b[0m                       Traceback (most recent call last)",
      "\u001b[0;32m<ipython-input-1-a8a11435dbc2>\u001b[0m in \u001b[0;36m<module>\u001b[0;34m()\u001b[0m\n\u001b[0;32m----> 1\u001b[0;31m \u001b[0;32mimport\u001b[0m \u001b[0mMySQL\u001b[0m\u001b[0;34m\u001b[0m\u001b[0m\n\u001b[0m\u001b[1;32m      2\u001b[0m \u001b[0;32mimport\u001b[0m \u001b[0mpandas\u001b[0m \u001b[0;32mas\u001b[0m \u001b[0mpd\u001b[0m\u001b[0;34m\u001b[0m\u001b[0m\n\u001b[1;32m      3\u001b[0m \u001b[0;32mfrom\u001b[0m \u001b[0mpandas\u001b[0m \u001b[0;32mimport\u001b[0m \u001b[0mread_csv\u001b[0m\u001b[0;34m\u001b[0m\u001b[0m\n\u001b[1;32m      4\u001b[0m \u001b[0;32mimport\u001b[0m \u001b[0mos\u001b[0m\u001b[0;34m\u001b[0m\u001b[0m\n\u001b[1;32m      5\u001b[0m \u001b[0;34m\u001b[0m\u001b[0m\n",
      "\u001b[0;31mModuleNotFoundError\u001b[0m: No module named 'MySQL'"
     ]
    }
   ],
   "source": [
    "import MySQL\n",
    "import pandas as pd\n",
    "from pandas import read_csv\n",
    "import os\n",
    "\n",
    "dir = \"/home/ztf/.tmp/ml-latest-small/\"\n",
    "os.listdir(dir)\n"
   ]
  },
  {
   "cell_type": "code",
   "execution_count": 3,
   "metadata": {},
   "outputs": [
    {
     "name": "stdout",
     "output_type": "stream",
     "text": [
      "Package                      Version  \r\n",
      "---------------------------- ---------\r\n",
      "asn1crypto                   0.24.0   \r\n",
      "autoenv                      1.0.0    \r\n",
      "backcall                     0.1.0    \r\n",
      "bleach                       2.1.3    \r\n",
      "certifi                      2018.1.18\r\n",
      "chardet                      3.0.4    \r\n",
      "click                        6.7      \r\n",
      "command-not-found            0.3      \r\n",
      "cryptography                 2.1.4    \r\n",
      "cupshelpers                  1.0      \r\n",
      "decorator                    4.3.0    \r\n",
      "defer                        1.0.6    \r\n",
      "distro-info                  0.18     \r\n",
      "entrypoints                  0.2.3    \r\n",
      "ffmpeg-python                0.1.11   \r\n",
      "future                       0.16.0   \r\n",
      "html5lib                     1.0.1    \r\n",
      "httplib2                     0.9.2    \r\n",
      "idna                         2.6      \r\n",
      "ipykernel                    4.8.2    \r\n",
      "ipython                      6.4.0    \r\n",
      "ipython-genutils             0.2.0    \r\n",
      "ipywidgets                   7.2.1    \r\n",
      "jedi                         0.12.0   \r\n",
      "Jinja2                       2.10     \r\n",
      "jsonschema                   2.6.0    \r\n",
      "jupyter                      1.0.0    \r\n",
      "jupyter-client               5.2.3    \r\n",
      "jupyter-console              5.2.0    \r\n",
      "jupyter-core                 4.4.0    \r\n",
      "kazam                        1.4.5    \r\n",
      "keyring                      10.6.0   \r\n",
      "keyrings.alt                 3.0      \r\n",
      "language-selector            0.1      \r\n",
      "launchpadlib                 1.10.6   \r\n",
      "lazr.restfulclient           0.13.5   \r\n",
      "lazr.uri                     1.0.3    \r\n",
      "lightdm-gtk-greeter-settings 1.2.2    \r\n",
      "livereload                   2.5.2    \r\n",
      "Markdown                     2.6.11   \r\n",
      "MarkupSafe                   1.0      \r\n",
      "mistune                      0.8.3    \r\n",
      "mkdocs                       0.17.3   \r\n",
      "mkdocs-material              2.7.3    \r\n",
      "mysqlclient                  1.3.12   \r\n",
      "nbconvert                    5.3.1    \r\n",
      "nbformat                     4.4.0    \r\n",
      "notebook                     5.5.0    \r\n",
      "oauth                        1.0.1    \r\n",
      "pandocfilters                1.4.2    \r\n",
      "parso                        0.2.0    \r\n",
      "pbr                          4.0.3    \r\n",
      "pexpect                      4.2.1    \r\n",
      "pickleshare                  0.7.4    \r\n",
      "Pillow                       5.1.0    \r\n",
      "pip                          10.0.1   \r\n",
      "pipenv                       2018.5.18\r\n",
      "prompt-toolkit               1.0.15   \r\n",
      "ptyprocess                   0.5.2    \r\n",
      "pycairo                      1.16.2   \r\n",
      "pycrypto                     2.6.1    \r\n",
      "pycups                       1.9.73   \r\n",
      "Pygments                     2.2.0    \r\n",
      "pygobject                    3.26.1   \r\n",
      "pymdown-extensions           4.10.2   \r\n",
      "python-apt                   1.6.0    \r\n",
      "python-dateutil              2.7.3    \r\n",
      "python-debian                0.1.32   \r\n",
      "pyxdg                        0.25     \r\n",
      "PyYAML                       3.12     \r\n",
      "pyzmq                        17.0.0   \r\n",
      "qtconsole                    4.3.1    \r\n",
      "reportlab                    3.4.0    \r\n",
      "requests                     2.18.4   \r\n",
      "requests-unixsocket          0.1.5    \r\n",
      "screen-resolution-extra      0.0.0    \r\n",
      "SecretStorage                2.3.1    \r\n",
      "Send2Trash                   1.5.0    \r\n",
      "setuptools                   39.1.0   \r\n",
      "simplegeneric                0.8.1    \r\n",
      "simplejson                   3.13.2   \r\n",
      "six                          1.11.0   \r\n",
      "terminado                    0.8.1    \r\n",
      "testpath                     0.3.1    \r\n",
      "testresources                2.0.1    \r\n",
      "tornado                      4.5.3    \r\n",
      "traitlets                    4.3.2    \r\n",
      "ubuntu-drivers-common        0.0.0    \r\n",
      "ufw                          0.35     \r\n",
      "urllib3                      1.22     \r\n",
      "usb-creator                  0.3.3    \r\n",
      "virtualenv                   15.2.0   \r\n",
      "virtualenv-clone             0.3.0    \r\n",
      "wadllib                      1.3.2    \r\n",
      "wcwidth                      0.1.7    \r\n",
      "webencodings                 0.5.1    \r\n",
      "widgetsnbextension           3.2.1    \r\n",
      "xkit                         0.0.0    \r\n",
      "zope.interface               4.3.2    \r\n"
     ]
    }
   ],
   "source": [
    "!pip list"
   ]
  },
  {
   "cell_type": "code",
   "execution_count": null,
   "metadata": {},
   "outputs": [],
   "source": []
  }
 ],
 "metadata": {
  "kernelspec": {
   "display_name": "Python 3",
   "language": "python",
   "name": "python3"
  },
  "language_info": {
   "codemirror_mode": {
    "name": "ipython",
    "version": 3
   },
   "file_extension": ".py",
   "mimetype": "text/x-python",
   "name": "python",
   "nbconvert_exporter": "python",
   "pygments_lexer": "ipython3",
   "version": "3.6.5"
  }
 },
 "nbformat": 4,
 "nbformat_minor": 2
}
