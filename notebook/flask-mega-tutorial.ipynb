{
 "cells": [
  {
   "cell_type": "markdown",
   "metadata": {},
   "source": [
    "# mega flask "
   ]
  },
  {
   "cell_type": "markdown",
   "metadata": {},
   "source": [
    "## hello world "
   ]
  },
  {
   "cell_type": "markdown",
   "metadata": {},
   "source": [
    "## template "
   ]
  },
  {
   "cell_type": "markdown",
   "metadata": {},
   "source": [
    "**keys:**\n",
    "    - python变量在脚本和html模版之间的传递\n",
    "    - jinja2模版的简单实用\n",
    "\n",
    "**参数传递:**\n",
    "\n",
    "```bash\n",
    "# myflaskapp\n",
    "/\n",
    "app.py\n",
    "    /templates\n",
    "    index.html\n",
    "```\n",
    "\n",
    "```python\n",
    "# app.py\n",
    "from flask import Flask\n",
    "\n",
    "app = Flask(__name__)\n",
    "\n",
    "@app.route('/')\n",
    "def index():\n",
    "    user = {'username':'John'}\n",
    "    return render_template('index.html',user=user)\n",
    "\n",
    "if __name__ == '__main__':\n",
    "    app.run(debug=True)\n",
    "```\n",
    "```html\n",
    "<!--index.html-->\n",
    "<h1>Hello, {{user.username}}</h1>\n",
    "```"
   ]
  },
  {
   "cell_type": "markdown",
   "metadata": {},
   "source": [
    "**jinja2模版:**\n",
    "    - 循环\n",
    "    - 条件\n",
    "    - 继承\n",
    "\n",
    "```python\n",
    "# routes\n",
    "```\n",
    "\n",
    "\n",
    "```html\n",
    "<!--循环-->\n",
    "{% for post in posts %}\n",
    "<div><p></p></div>"
   ]
  }
 ],
 "metadata": {
  "kernelspec": {
   "display_name": "Python 3",
   "language": "python",
   "name": "python3"
  },
  "language_info": {
   "codemirror_mode": {
    "name": "ipython",
    "version": 3
   },
   "file_extension": ".py",
   "mimetype": "text/x-python",
   "name": "python",
   "nbconvert_exporter": "python",
   "pygments_lexer": "ipython3",
   "version": "3.6.3"
  }
 },
 "nbformat": 4,
 "nbformat_minor": 2
}
