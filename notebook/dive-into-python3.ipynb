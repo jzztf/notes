{
 "cells": [
  {
   "cell_type": "markdown",
   "metadata": {
    "slideshow": {
     "slide_type": "notes"
    }
   },
   "source": [
    "# 内置数据类型\n",
    "\n",
    "1. Boolean [布尔型]: True/False\n",
    "2. Numbers [数值型]: Integer/Float/Fractions/Complex Number\n",
    "3. Strings [字符串型]: Unicode字符序列\n",
    "4. Bytes [字节] 和 [字节数组]: 图像文件\n",
    "5. Lists [列表]: 值的有序序列\n",
    "6. Tuples [元组]: 有序而不可变的序列\n",
    "7. Sets [集合]: 满装无序值的包裹\n",
    "8. Dictionaries [字典]: 键值对的无序包裹\n",
    "\n",
    "module [模块],function [函数],class [类],method [模块],file [文件]都是Python的类型\n",
    "\n",
    "## 布尔类型\n",
    "\n",
    "表达式可以计算为布尔的值\n",
    "\n",
    "> python2的遗留问题, True/False可被当做1/0对待\n",
    "\n",
    "## 数值类型\n",
    "\n",
    "数值类型有很多, 常见的就是: Integer [整型]和Floating Point [浮点型]\n",
    "\n",
    "整型的浮点型可通过`type()`判断, 也可根据小数点判断\n",
    "\n",
    "### 常见数值运算\n",
    "\n",
    "- `/`: 浮点除法\n",
    "- `//`: 取整\n",
    "- `**`: 幂运算\n",
    "- `%`: 取余\n",
    "\n",
    "### 分数\n",
    "\n",
    "```python\n",
    "import fractions\n",
    "x  = fractions.Fraction(1,3)\n",
    "# x 为分数1/3\n",
    "```\n",
    "### 三角函数\n",
    "\n",
    "```python\n",
    "import math\n",
    "math.pi\n",
    "# 3.141592653589793\n",
    "math.sin(4/5)\n",
    "math.tan(3/4)\n",
    "math.cos(3/5)\n",
    "```\n",
    "## 集合\n",
    "\n",
    "集合set是装有独特值的无序袋子\n",
    "\n",
    "创建空集合使用`set()`产看类型也是`set()`不会是`{}`\n",
    "\n",
    "### 集合添加值\n",
    "\n",
    "- `set.add()`如果试图添加一个已有值,不会引发错误, 只是一个空操作\n",
    "- `set.update()`接受一个集合参数将其添加到集合中, 也可接受一个列表, 并去掉重复的值\n",
    "\n",
    "### 从集合删除元素\n",
    "\n",
    "- `set.discard()`接受一个单值作为参数, 并从集合删除; 如果接受一个不存在的值作为参数, 什么也不会发生, 只是一个空操作\n",
    "- `set.remove()`也接受一个单值参数, 在值不存在时, 触发\"KeyError\"错误\n",
    "- `set.pop()`可以从集合删除特定值,因为集合是无序的所以不存在删除最后一个值,不传入参数时,会随机剔除.试图清除某特定值不存在时, 会触发\"KeyError\"\n",
    "- `set.clear()`清除集合\n",
    "\n",
    "### 常见集合操作\n",
    "\n",
    "```python\n",
    "a_set = {2,4,5,6,7}\n",
    "b_set = {2,4,3,6,8}\n",
    "6 in a_set\n",
    "# True\n",
    "a_set.union(b_set)\n",
    "# 合并集合: {2, 3, 4, 5, 6, 7, 8}\n",
    "a_set.intersection(b_set)\n",
    "# 取集合相同元素: {2, 4, 6}\n",
    "a_set.difference(b_set)\n",
    "# 取集合不同元素: {5, 7}\n",
    "a_set.symmetric_difference(b_set)\n",
    "# 取集合只出现一次的元素: {3, 5, 7, 8}\n",
    "```\n",
    "三种操作求Union[并集]和Intersection[交集]是对称的\n",
    "求difference[差]是不对称的\n",
    "\n",
    "```python\n",
    "a_set.difference(b_set)\n",
    "b_set.difference(a_set)\n",
    "# a中有b中没有: {5, 7}\n",
    "# b中有a中没有: {8, 3}\n",
    "```\n",
    "\n",
    "## 字典\n",
    "\n",
    "- 字典不允许有重复的键\n",
    "- 对既有字典键赋值,只会新值代替旧值\n",
    "- len()方法会返回键的数量\n",
    "\n",
    "\n",
    "## None\n",
    "\n",
    "None是一个空值, 是一个特殊的常量\n",
    "\n",
    "\n",
    "# 解析\n",
    "\n",
    "## 处理文件和目录\n",
    "\n",
    "\n",
    "\n",
    "## 列表解析\n",
    "\n",
    "## 字典解析\n",
    "\n",
    "## 集合解析\n"
   ]
  },
  {
   "cell_type": "code",
   "execution_count": 7,
   "metadata": {},
   "outputs": [
    {
     "name": "stdout",
     "output_type": "stream",
     "text": [
      "/home/ztf/Documents/jupyter_notebook\n"
     ]
    }
   ],
   "source": [
    "import os\n",
    "print(os.getcwd())"
   ]
  },
  {
   "cell_type": "markdown",
   "metadata": {},
   "source": [
    "## 处理文件名和目录名"
   ]
  },
  {
   "cell_type": "code",
   "execution_count": 20,
   "metadata": {},
   "outputs": [
    {
     "name": "stdout",
     "output_type": "stream",
     "text": [
      "/home/ztf\n",
      "('/home/ztf/tmp', 'dive-into-python3.ipynb')\n",
      "/home/ztf/tmp\n",
      "dive-into-python3.ipynb\n",
      "dive-into-python3\n",
      ".ipynb\n",
      "/home/ztf/tmp/dive-into-python3.ipynb\n",
      "/home/ztf/tmp\n"
     ]
    },
    {
     "data": {
      "text/plain": [
       "['./for-1.sh',\n",
       " './loop.sh',\n",
       " './test.sh',\n",
       " './read.sh',\n",
       " './createusers.sh',\n",
       " './read-t.sh',\n",
       " './read-s.sh']"
      ]
     },
     "execution_count": 20,
     "metadata": {},
     "output_type": "execute_result"
    }
   ],
   "source": [
    "import os\n",
    "\n",
    "path = os.getcwd()\n",
    "filePath = os.path.join(path,'dive-into-python3.ipynb')\n",
    "userDir = os.path.expanduser('~')\n",
    "print(userDir)\n",
    "print(os.path.split(filePath))\n",
    "(dirname,filename) = os.path.split(filePath)\n",
    "(shortname,extension) = os.path.splitext(filename)\n",
    "print(dirname)\n",
    "print(filename)\n",
    "print(shortname)\n",
    "print(extension)\n",
    "print(filePath)\n",
    "os.chdir(os.path.join(userDir,'tmp'))\n",
    "print(os.getcwd())\n",
    "import glob\n",
    "glob.glob('./*.sh')\n",
    "# glob模块接受一个通配符,并返回目录中所有文件及目录"
   ]
  },
  {
   "cell_type": "markdown",
   "metadata": {},
   "source": [
    "## 获取文件元信息\n",
    "\n",
    "文件的修改时间,最后修改时间,文件大小等"
   ]
  },
  {
   "cell_type": "code",
   "execution_count": null,
   "metadata": {},
   "outputs": [],
   "source": []
  }
 ],
 "metadata": {
  "kernelspec": {
   "display_name": "Python 3",
   "language": "python",
   "name": "python3"
  },
  "language_info": {
   "codemirror_mode": {
    "name": "ipython",
    "version": 3
   },
   "file_extension": ".py",
   "mimetype": "text/x-python",
   "name": "python",
   "nbconvert_exporter": "python",
   "pygments_lexer": "ipython3",
   "version": "3.6.3"
  }
 },
 "nbformat": 4,
 "nbformat_minor": 2
}
