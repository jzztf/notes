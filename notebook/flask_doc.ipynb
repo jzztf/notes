{
 "cells": [
  {
   "cell_type": "markdown",
   "metadata": {},
   "source": [
    "# flask 文档研读"
   ]
  },
  {
   "cell_type": "markdown",
   "metadata": {},
   "source": [
    "## 快速入门"
   ]
  },
  {
   "cell_type": "markdown",
   "metadata": {},
   "source": [
    "### 最小应用"
   ]
  },
  {
   "cell_type": "code",
   "execution_count": null,
   "metadata": {},
   "outputs": [],
   "source": [
    "from flask import Flask\n",
    "app = Flask(__name__)\n",
    "\n",
    "@app.route('/')\n",
    "def hello_world():\n",
    "    return \"Hello world!\"\n",
    "# 保存为'hello.py'"
   ]
  },
  {
   "cell_type": "markdown",
   "metadata": {},
   "source": [
    "**运行:**\n",
    "\n",
    "- 使用flask命令\n",
    "\n",
    "```bash\n",
    "$ export FLASK_APP=hello.py\n",
    "$ flask run\n",
    "```\n",
    "\n",
    "- 使用python\n",
    "\n",
    "```bash\n",
    "$ export FLASK_APP=hello.py\n",
    "$ python -m flask run\n",
    "```\n",
    "\n",
    "- 公网可用\n",
    "\n",
    "```bash\n",
    "$ flask run --host=0.0.0.0\n",
    "```\n",
    "\n",
    "- DEBUG\n",
    "\n",
    "```bash\n",
    "$ export FLASK_DEBUG=1\n",
    "$ flask run\n",
    "```"
   ]
  },
  {
   "cell_type": "markdown",
   "metadata": {},
   "source": [
    "### 路由(route)"
   ]
  },
  {
   "cell_type": "code",
   "execution_count": null,
   "metadata": {},
   "outputs": [],
   "source": [
    "@app.route('/')\n",
    "def index():\n",
    "    return 'Index Page'\n",
    "\n",
    "@app.route('/hello')\n",
    "def hello():\n",
    "    return 'Hello, world!'"
   ]
  },
  {
   "cell_type": "markdown",
   "metadata": {},
   "source": [
    "#### 定制可变路由"
   ]
  },
  {
   "cell_type": "code",
   "execution_count": null,
   "metadata": {},
   "outputs": [],
   "source": [
    "@app.route('/user/<username>')\n",
    "def show_user_profile(username):\n",
    "    return 'User %s' % username\n",
    "\n",
    "@app.route(/post/<int:post_id>)\n",
    "def show_post(post_id):\n",
    "    return 'Post %d' % post_id"
   ]
  },
  {
   "cell_type": "markdown",
   "metadata": {},
   "source": [
    "#### 独立url和重定向"
   ]
  },
  {
   "cell_type": "code",
   "execution_count": null,
   "metadata": {},
   "outputs": [],
   "source": []
  }
 ],
 "metadata": {
  "kernelspec": {
   "display_name": "Python 3",
   "language": "python",
   "name": "python3"
  },
  "language_info": {
   "codemirror_mode": {
    "name": "ipython",
    "version": 3
   },
   "file_extension": ".py",
   "mimetype": "text/x-python",
   "name": "python",
   "nbconvert_exporter": "python",
   "pygments_lexer": "ipython3",
   "version": "3.6.3"
  }
 },
 "nbformat": 4,
 "nbformat_minor": 2
}
